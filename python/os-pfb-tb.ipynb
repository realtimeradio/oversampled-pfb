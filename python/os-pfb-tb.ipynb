{
 "cells": [
  {
   "cell_type": "code",
   "execution_count": 1,
   "metadata": {},
   "outputs": [
    {
     "name": "stdout",
     "output_type": "stream",
     "text": [
      "736\n"
     ]
    }
   ],
   "source": [
    "from numpy import (dtype, int8, float32, complex64)\n",
    "from numpy import (arange, zeros, pi, sqrt, cos, sin, abs, log10, random, fft)\n",
    "from numpy import (real, imag)\n",
    "import numpy as np\n",
    "import matplotlib.pyplot as plt\n",
    "\n",
    "#signal scenario and parameters\n",
    "FFT_LENGTH = 32\n",
    "\n",
    "M = FFT_LENGTH\n",
    "D = 24\n",
    "FINE_FFT_LENGTH = 512\n",
    "\n",
    "Nsamps = FFT_LENGTH*23\n",
    "print(Nsamps)\n",
    "\n",
    "fs = 10e3\n",
    "fs_os = fs/D\n",
    "f = 4e3\n",
    "\n",
    "if Nsamps:\n",
    "    t = Nsamps/fs\n",
    "else:\n",
    "    t = 0.2\n",
    "    Nsamps = int(t*fs)\n",
    "\n",
    "n = arange(0, Nsamps)\n",
    "x = zeros(Nsamps, dtype=complex64)\n",
    "\n",
    "# generate samples\n",
    "signal_power = 20\n",
    "noise_power = 10\n",
    "\n",
    "signal_amp = sqrt(signal_power)\n",
    "noise_amp = sqrt(noise_power/2)\n",
    "\n",
    "omega = 2*pi*f\n",
    "signal = signal_amp*(cos(omega*n/fs) + 1j*sin(omega*n/fs))\n",
    "noise = noise_amp*(random.randn(Nsamps) + 1j*random.randn(Nsamps))\n",
    "\n",
    "x = signal + noise\n",
    "\n",
    "# quantize\n",
    "d_max = 127\n",
    "d_min = -128\n",
    "x_real = (real(x) - d_min)/(d_max-d_min) - 0.5\n",
    "x_imag = (imag(x) - d_min)/(d_max-d_min) - 0.5 \n",
    "\n",
    "x = x_real + 1j*x_imag"
   ]
  },
  {
   "cell_type": "code",
   "execution_count": 2,
   "metadata": {},
   "outputs": [
    {
     "data": {
      "image/png": "[encoded data removed]",
      "text/plain": [
       "<matplotlib.figure.Figure at 0x7f9c173128>"
      ]
     },
     "metadata": {},
     "output_type": "display_data"
    }
   ],
   "source": [
    "# plot an sample fft for verification of generated data\n",
    "X = fft.fft(x, FFT_LENGTH)/FFT_LENGTH\n",
    "\n",
    "# plot\n",
    "fbins = arange(0, FFT_LENGTH)\n",
    "faxis = fbins*fs/FFT_LENGTH\n",
    "\n",
    "plt.plot(faxis, 20*log10(abs(X)))\n",
    "plt.xlim([min(faxis), max(faxis)])\n",
    "plt.xlabel('Frequency (Hz)')\n",
    "plt.ylabel('Power (arb. units dB)')\n",
    "plt.grid()\n",
    "plt.show()"
   ]
  },
  {
   "cell_type": "code",
   "execution_count": 3,
   "metadata": {},
   "outputs": [
    {
     "data": {
      "application/javascript": [
       "\n",
       "require(['notebook/js/codecell'], function(codecell) {\n",
       "  codecell.CodeCell.options_default.highlight_modes[\n",
       "      'magic_text/x-csrc'] = {'reg':[/^%%microblaze/]};\n",
       "  Jupyter.notebook.events.one('kernel_ready.Kernel', function(){\n",
       "      Jupyter.notebook.get_cells().map(function(cell){\n",
       "          if (cell.cell_type == 'code'){ cell.auto_highlight(); } }) ;\n",
       "  });\n",
       "});\n"
      ]
     },
     "metadata": {},
     "output_type": "display_data"
    }
   ],
   "source": [
    "import pynq\n",
    "from pynq import Xlnk\n",
    "from pynq import Overlay\n",
    "\n",
    "OVERLAY_PATH = '/home/xilinx/jupyter_notebooks/alpaca/overlay/pfb_d24/os_pfb.bit'\n",
    "overlay = Overlay(OVERLAY_PATH)\n",
    "dma = overlay.axi_dma_0\n",
    "\n",
    "xlnk = Xlnk()\n",
    "# in_buffer = xlnk.cma_array(shape=(Nsamps,), dtype=complex64, cacheable=1)\n",
    "# out_buffer = xlnk.cma_array(shape=(Nsamps,), dtype=complex64, cacheable=1)\n",
    "in_buffer = xlnk.cma_array(shape=(FFT_LENGTH,), dtype=complex64, cacheable=1)\n",
    "out_buffer = xlnk.cma_array(shape=(FFT_LENGTH,), dtype=complex64, cacheable=1)\n",
    "\n",
    "output_windows = int(Nsamps/FFT_LENGTH)\n",
    "ospfb_output = np.zeros(shape=(FFT_LENGTH, output_windows), dtype=complex64)\n",
    "\n",
    "#np.copyto(in_buffer, x)\n",
    "\n",
    "def dma_transfer():\n",
    "    dma.sendchannel.transfer(in_buffer)\n",
    "    dma.recvchannel.transfer(out_buffer)\n",
    "    print('waiting on transfers...')\n",
    "    dma.sendchannel.wait()\n",
    "    dma.recvchannel.wait()\n",
    "    print('done!')"
   ]
  },
  {
   "cell_type": "code",
   "execution_count": 4,
   "metadata": {},
   "outputs": [
    {
     "name": "stdout",
     "output_type": "stream",
     "text": [
      "DMA send running: True\n",
      "DMA send idle:  False\n",
      "DMA recv running: True\n",
      "DMA rec  idle:  False\n"
     ]
    }
   ],
   "source": [
    "\n",
    "print(\"DMA send running:\", dma.sendchannel.running)\n",
    "print(\"DMA send idle: \", dma.sendchannel.idle)\n",
    "print(\"DMA recv running:\", dma.recvchannel.running)\n",
    "print(\"DMA rec  idle: \", dma.recvchannel.idle)"
   ]
  },
  {
   "cell_type": "code",
   "execution_count": 5,
   "metadata": {},
   "outputs": [],
   "source": [
    "i=0"
   ]
  },
  {
   "cell_type": "code",
   "execution_count": 27,
   "metadata": {},
   "outputs": [
    {
     "name": "stdout",
     "output_type": "stream",
     "text": [
      "6 192 223 32\n"
     ]
    }
   ],
   "source": [
    "idx = i*FFT_LENGTH\n",
    "np.copyto(in_buffer, x[idx:idx+FFT_LENGTH])\n",
    "print(i, idx, idx+(FFT_LENGTH-1), len(x[idx:idx+FFT_LENGTH]))"
   ]
  },
  {
   "cell_type": "code",
   "execution_count": null,
   "metadata": {},
   "outputs": [
    {
     "name": "stdout",
     "output_type": "stream",
     "text": [
      "23\n",
      "waiting on transfers...\n"
     ]
    }
   ],
   "source": [
    "i+=1\n",
    "print(i)\n",
    "dma_transfer()"
   ]
  },
  {
   "cell_type": "code",
   "execution_count": 34,
   "metadata": {},
   "outputs": [
    {
     "name": "stdout",
     "output_type": "stream",
     "text": [
      "[  1.37026027e-01+0.03629448j  -6.21479414e-02+0.01120764j\n",
      "   5.66181839e-02-0.0229748j   -2.49907449e-02-0.0021652j\n",
      "   6.15470260e-02-0.00705717j  -7.12357536e-02-0.0043727j\n",
      "   4.20369618e-02+0.03835852j  -8.12996179e-04-0.012275j\n",
      "   3.91009077e-02-0.04899278j   5.70566533e-03-0.0624722j\n",
      "  -1.63936447e-02+0.04120082j   5.66197373e-02+0.01457833j\n",
      "  -6.25296608e-02-0.04727719j   3.79364729e-01+0.10521971j\n",
      "  -5.06938109e-03-0.13910727j  -7.60714561e-02-0.0554201j\n",
      "   2.33481936e-02-0.03213969j   3.44495997e-02-0.02254693j\n",
      "   2.20907256e-02+0.00858098j  -1.28985308e-02-0.01007984j\n",
      "  -6.08932227e-03-0.01083546j   3.54153439e-02+0.00597657j\n",
      "  -7.49237686e-02-0.04472969j   7.27716833e-05+0.00587788j\n",
      "  -2.46155765e-02+0.0289018j   -2.21560858e-02+0.05774321j\n",
      "   6.54187519e-04-0.03895658j   2.95892376e-02+0.03077863j\n",
      "  -5.15537662e-03-0.01624046j   2.63689701e-02+0.04053541j\n",
      "  -4.43929099e-02-0.01818142j   8.89388658e-03+0.00203279j]\n"
     ]
    }
   ],
   "source": [
    "print(out_buffer)"
   ]
  },
  {
   "cell_type": "code",
   "execution_count": 35,
   "metadata": {},
   "outputs": [
    {
     "data": {
      "image/png": "[encoded data removed]",
      "text/plain": [
       "<matplotlib.figure.Figure at 0x7f84424208>"
      ]
     },
     "metadata": {},
     "output_type": "display_data"
    }
   ],
   "source": [
    "# coarse channel output\n",
    "fbins = arange(0, FFT_LENGTH)\n",
    "faxis = fbins*fs/FFT_LENGTH\n",
    "\n",
    "plt.plot(faxis, 20*log10(abs(out_buffer)))\n",
    "plt.xlim([min(faxis), max(faxis)])\n",
    "plt.xlabel('Frequency (Hz)')\n",
    "plt.ylabel('Power (arb. units dB)')\n",
    "plt.grid()\n",
    "plt.show()"
   ]
  },
  {
   "cell_type": "code",
   "execution_count": 29,
   "metadata": {},
   "outputs": [
    {
     "name": "stdout",
     "output_type": "stream",
     "text": [
      "waiting on transfers...\n",
      "done!\n",
      "waiting on transfers...\n",
      "done!\n",
      "waiting on transfers...\n",
      "done!\n",
      "waiting on transfers...\n",
      "done!\n",
      "waiting on transfers...\n",
      "done!\n",
      "waiting on transfers...\n",
      "done!\n",
      "waiting on transfers...\n",
      "done!\n",
      "waiting on transfers...\n",
      "done!\n",
      "waiting on transfers...\n",
      "done!\n",
      "waiting on transfers...\n",
      "done!\n",
      "waiting on transfers...\n",
      "done!\n",
      "waiting on transfers...\n",
      "done!\n",
      "waiting on transfers...\n",
      "done!\n",
      "waiting on transfers...\n",
      "done!\n",
      "waiting on transfers...\n",
      "done!\n",
      "waiting on transfers...\n",
      "done!\n",
      "waiting on transfers...\n",
      "done!\n",
      "waiting on transfers...\n",
      "done!\n",
      "waiting on transfers...\n",
      "done!\n",
      "waiting on transfers...\n",
      "done!\n",
      "waiting on transfers...\n",
      "done!\n"
     ]
    }
   ],
   "source": [
    "for i in range(0, output_windows):\n",
    "    idx = i*FFT_LENGTH\n",
    "#     print(i, idx, idx+(FFT_LENGTH-1), len(x[idx:idx+FFT_LENGTH]))\n",
    "    np.copyto(in_buffer, x[idx:idx+FFT_LENGTH])\n",
    "    dma_transfer()\n",
    "    np.copyto(ospfb_output[:, i], out_buffer)\n",
    "    "
   ]
  },
  {
   "cell_type": "code",
   "execution_count": null,
   "metadata": {},
   "outputs": [],
   "source": [
    "# second stage FFT output\n",
    "fbins_os = fs_decimated/Nfft\n",
    "hsov = fs/2*(1/D-1/M)/fbins_os\n",
    "channel_bins = Nfft-hsov*2\n",
    "\n",
    "full_pfb_spectrum = fft.fft(output_bufer, Nfft)/Nfft"
   ]
  }
 ],
 "metadata": {
  "kernelspec": {
   "display_name": "Python 3",
   "language": "python",
   "name": "python3"
  },
  "language_info": {
   "codemirror_mode": {
    "name": "ipython",
    "version": 3
   },
   "file_extension": ".py",
   "mimetype": "text/x-python",
   "name": "python",
   "nbconvert_exporter": "python",
   "pygments_lexer": "ipython3",
   "version": "3.6.5"
  }
 },
 "nbformat": 4,
 "nbformat_minor": 2
}
